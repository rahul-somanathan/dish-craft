{
 "cells": [
  {
   "cell_type": "markdown",
   "metadata": {},
   "source": [
    "# Environment Setup"
   ]
  },
  {
   "cell_type": "code",
   "execution_count": 1,
   "metadata": {},
   "outputs": [],
   "source": [
    "import pandas as pd\n",
    "import numpy as np\n",
    "import random\n",
    "\n",
    "from faker import Faker\n",
    "from datetime import datetime"
   ]
  },
  {
   "cell_type": "markdown",
   "metadata": {},
   "source": [
    "# Intializing Vendor Names & Ingrediants"
   ]
  },
  {
   "cell_type": "code",
   "execution_count": 2,
   "metadata": {},
   "outputs": [
    {
     "data": {
      "text/plain": [
       "(20, 56)"
      ]
     },
     "execution_count": 2,
     "metadata": {},
     "output_type": "execute_result"
    }
   ],
   "source": [
    "# List of realistic vendor names\n",
    "vendor_names = [\n",
    "    'Loblaws', 'Metro', 'Sobeys', 'No Frills', 'Real Canadian Superstore', 'Bulk Barn', \n",
    "    'Longo\\'s', 'Fortinos', 'Food Basics', 'FreshCo', 'Save-On-Foods', 'T&T Supermarket', \n",
    "    'Safeway Canada', 'IGA', 'Thrifty Foods', 'Super C', 'Co-op', 'Giant Tiger', 'Rexall', 'Shoppers Drug Mart'\n",
    "]\n",
    "\n",
    "# List of diverse ingredients with categories\n",
    "ingredients = [\n",
    "    ('Tomatoes', 'Vegetable'),\n",
    "    ('Pasta', 'Grain'),\n",
    "    ('Cheese', 'Dairy'),\n",
    "    ('Basil', 'Herb'),\n",
    "    ('Garlic', 'Vegetable'),\n",
    "    ('Olive Oil', 'Oil'),\n",
    "    ('Chicken', 'Meat'),\n",
    "    ('Beef', 'Meat'),\n",
    "    ('Fish', 'Seafood'),\n",
    "    ('Rice', 'Grain'),\n",
    "    ('Pepper', 'Vegetable'),\n",
    "    ('Salt', 'Seasoning'),\n",
    "    ('Milk', 'Dairy'),\n",
    "    ('Butter', 'Dairy'),\n",
    "    ('Eggs', 'Dairy'),\n",
    "    ('Flour', 'Grain'),\n",
    "    ('Sugar', 'Sweetener'),\n",
    "    ('Onions', 'Vegetable'),\n",
    "    ('Mushrooms', 'Vegetable'),\n",
    "    ('Zucchini', 'Vegetable'),\n",
    "    ('Spinach', 'Vegetable'),\n",
    "    ('Broccoli', 'Vegetable'),\n",
    "    ('Carrots', 'Vegetable'),\n",
    "    ('Potatoes', 'Vegetable'),\n",
    "    ('Cilantro', 'Herb'),\n",
    "    ('Thyme', 'Herb'),\n",
    "    ('Rosemary', 'Herb'),\n",
    "    ('Parsley', 'Herb'),\n",
    "    ('Lemon', 'Fruit'),\n",
    "    ('Lime', 'Fruit'),\n",
    "    ('Oranges', 'Fruit'),\n",
    "    ('Apples', 'Fruit'),\n",
    "    ('Bananas', 'Fruit'),\n",
    "    ('Grapes', 'Fruit'),\n",
    "    ('Strawberries', 'Fruit'),\n",
    "    ('Blueberries', 'Fruit'),\n",
    "    ('Yogurt', 'Dairy'),\n",
    "    ('Cream', 'Dairy'),\n",
    "    ('Almonds', 'Nut'),\n",
    "    ('Walnuts', 'Nut'),\n",
    "    ('Cashews', 'Nut'),\n",
    "    ('Peanut Butter', 'Nut'),\n",
    "    ('Honey', 'Sweetener'),\n",
    "    ('Maple Syrup', 'Sweetener'),\n",
    "    ('Kale', 'Vegetable'),\n",
    "    ('Lettuce', 'Vegetable'),\n",
    "    ('Cucumber', 'Vegetable'),\n",
    "    ('Bell Peppers', 'Vegetable'),\n",
    "    ('Eggplant', 'Vegetable'),\n",
    "    ('Squash', 'Vegetable'),\n",
    "    ('Corn', 'Vegetable'),\n",
    "    ('Peas', 'Vegetable'),\n",
    "    ('Lentils', 'Legume'),\n",
    "    ('Chickpeas', 'Legume'),\n",
    "    ('Black Beans', 'Legume'),\n",
    "    ('Kidney Beans', 'Legume')\n",
    "]\n",
    "\n",
    "len(vendor_names), len(ingredients)"
   ]
  },
  {
   "cell_type": "markdown",
   "metadata": {},
   "source": [
    "# Synthetic Data Generation"
   ]
  },
  {
   "cell_type": "markdown",
   "metadata": {},
   "source": [
    "## Initialize Fields"
   ]
  },
  {
   "cell_type": "code",
   "execution_count": 3,
   "metadata": {},
   "outputs": [],
   "source": [
    "# Initialize Faker to generate realistic Canadian data\n",
    "fake = Faker('en_CA')"
   ]
  },
  {
   "cell_type": "markdown",
   "metadata": {},
   "source": [
    "## Generate Vendor Data"
   ]
  },
  {
   "cell_type": "code",
   "execution_count": 4,
   "metadata": {},
   "outputs": [
    {
     "data": {
      "text/plain": [
       "(  vendor_name            location ingredient_supplied   category\n",
       " 0     Longo's         Grahamville             Almonds        Nut\n",
       " 1     FreshCo          North Lori            Rosemary       Herb\n",
       " 2      Rexall         North Kevin              Onions  Vegetable\n",
       " 3   No Frills           Greentown              Yogurt      Dairy\n",
       " 4     Longo's  South Michaelmouth           Olive Oil        Oil,\n",
       " (100, 4))"
      ]
     },
     "execution_count": 4,
     "metadata": {},
     "output_type": "execute_result"
    }
   ],
   "source": [
    "# Generate vendors data\n",
    "def generate_vendors_data(num_vendors):\n",
    "    vendors = []\n",
    "    for _ in range(num_vendors):\n",
    "        vendor_name = random.choice(vendor_names)\n",
    "        location = fake.city()\n",
    "        ingredient_supplied, category = random.choice(ingredients)\n",
    "        vendors.append({\n",
    "            'vendor_name': vendor_name,\n",
    "            'location': location,\n",
    "            'ingredient_supplied': ingredient_supplied,\n",
    "            'category': category\n",
    "        })\n",
    "    return pd.DataFrame(vendors)\n",
    "\n",
    "# Generate realistic vendors data\n",
    "vendors = generate_vendors_data(num_vendors=100)\n",
    "\n",
    "\n",
    "vendors.head(), vendors.shape"
   ]
  },
  {
   "cell_type": "markdown",
   "metadata": {},
   "source": [
    "## Generate Purchase History Data"
   ]
  },
  {
   "cell_type": "code",
   "execution_count": 5,
   "metadata": {},
   "outputs": [
    {
     "data": {
      "text/plain": [
       "(                vendor_name ingredient   category  quantity  \\\n",
       " 0                       IGA      Flour      Grain      20.0   \n",
       " 1  Real Canadian Superstore   Tomatoes  Vegetable      11.0   \n",
       " 2                     Co-op     Garlic  Vegetable      18.0   \n",
       " 3           T&T Supermarket   Cucumber  Vegetable      18.0   \n",
       " 4               Giant Tiger  Olive Oil        Oil       1.0   \n",
       " \n",
       "                purchase_date  \n",
       " 0 2022-01-24 16:30:42.811353  \n",
       " 1 2019-10-22 12:24:44.940169  \n",
       " 2 2020-11-09 00:17:37.230027  \n",
       " 3 2022-05-06 07:41:38.109536  \n",
       " 4 2021-02-10 01:29:29.674654  ,\n",
       " (50100, 5))"
      ]
     },
     "execution_count": 5,
     "metadata": {},
     "output_type": "execute_result"
    }
   ],
   "source": [
    "import datetime\n",
    "\n",
    "# Generate purchase history data with ingredient category\n",
    "def generate_purchase_history(num_records):\n",
    "    purchase_history = []\n",
    "    start_date = datetime.datetime(2018, 1, 1)\n",
    "    end_date = datetime.datetime(2022, 12, 31)\n",
    "    for _ in range(num_records):\n",
    "        vendor_name = random.choice(vendor_names)\n",
    "        ingredient, category = random.choice(ingredients)\n",
    "        quantity = random.randint(1, 50)\n",
    "        purchase_date = fake.date_time_between_dates(start_date, end_date)\n",
    "        purchase_history.append({\n",
    "            'vendor_name': vendor_name,\n",
    "            'ingredient': ingredient,\n",
    "            'category': category,\n",
    "            'quantity': quantity,\n",
    "            'purchase_date': purchase_date\n",
    "        })\n",
    "    return pd.DataFrame(purchase_history)\n",
    "\n",
    "# Generate realistic purchase history data\n",
    "purchase_history = generate_purchase_history(num_records=50000)\n",
    "\n",
    "# Introduce some duplicates\n",
    "purchase_history = pd.concat([purchase_history, purchase_history.sample(100)], ignore_index=True)\n",
    "\n",
    "# Introduce some missing values\n",
    "purchase_history.loc[np.random.choice(purchase_history.index, size=100, replace=False), 'quantity'] = np.nan\n",
    "\n",
    "# Display first few rows and the shape of the dataset\n",
    "purchase_history.head(), purchase_history.shape\n"
   ]
  },
  {
   "cell_type": "markdown",
   "metadata": {},
   "source": [
    "## Generate Product Demand Data"
   ]
  },
  {
   "cell_type": "code",
   "execution_count": 6,
   "metadata": {},
   "outputs": [
    {
     "data": {
      "text/plain": [
       "(   timestamp    product_id  demand      price  promotion  temperature  \\\n",
       " 0 2023-01-01  Bell Peppers      94  60.891186          0    38.630601   \n",
       " 1 2023-01-01        Cheese      98  22.108710          0    23.877024   \n",
       " 2 2023-01-02          Salt      33   2.609250          0    -4.800778   \n",
       " 3 2023-01-02         Basil      78  30.681360          1   -13.291511   \n",
       " 4 2023-01-03  Bell Peppers      32  26.702867          0   -15.476022   \n",
       " \n",
       "    economic_indicator  social_media_sentiment  previous_demand  \n",
       " 0           51.370497               -0.157013               16  \n",
       " 1           59.302178               -0.927554               97  \n",
       " 2            1.240155               -0.965119              182  \n",
       " 3           18.838625                0.044827              240  \n",
       " 4           69.579086               -0.436603              280  ,\n",
       " (730, 9))"
      ]
     },
     "execution_count": 6,
     "metadata": {},
     "output_type": "execute_result"
    }
   ],
   "source": [
    "def generate_product_demand_data(start_date, end_date, products, num_records=1000):\n",
    "\n",
    "    # Convert start_date and end_date to datetime if they are strings\n",
    "    if isinstance(start_date, str):\n",
    "        start_date = datetime.datetime.strptime(start_date, '%Y-%m-%d')\n",
    "    if isinstance(end_date, str):\n",
    "        end_date = datetime.datetime.strptime(end_date, '%Y-%m-%d')\n",
    "\n",
    "    # Generate date range\n",
    "    dates = pd.date_range(start=start_date, end=end_date, freq='D')\n",
    "\n",
    "    # Generate random data for each feature\n",
    "    demand = np.random.randint(10, 100, size=len(dates))\n",
    "    price = np.random.uniform(1, 100, size=len(dates))\n",
    "    promotion = np.random.choice([0, 1], size=len(dates))\n",
    "    temperature = np.random.uniform(-20, 40, size=len(dates))\n",
    "    economic_indicator = np.random.uniform(0, 100, size=len(dates))\n",
    "    social_media_sentiment = np.random.uniform(-1, 1, size=len(dates))\n",
    "    previous_demand = np.random.randint(10, 100, size=len(dates)).cumsum()\n",
    "\n",
    "    # Create DataFrame\n",
    "    demand_forecast_data = pd.DataFrame({\n",
    "        'timestamp': dates.repeat(num_records // len(dates)),\n",
    "        'product_id': np.tile(np.random.choice(products, size=len(dates)), num_records // len(dates)),\n",
    "        'demand': np.tile(demand, num_records // len(dates)),\n",
    "        'price': np.tile(price, num_records // len(dates)),\n",
    "        'promotion': np.tile(promotion, num_records // len(dates)),\n",
    "        'temperature': np.tile(temperature, num_records // len(dates)),\n",
    "        'economic_indicator': np.tile(economic_indicator, num_records // len(dates)),\n",
    "        'social_media_sentiment': np.tile(social_media_sentiment, num_records // len(dates)),\n",
    "        'previous_demand': np.tile(previous_demand, num_records // len(dates))\n",
    "    })\n",
    "\n",
    "    return demand_forecast_data\n",
    "\n",
    "start_date = '2023-01-01'\n",
    "end_date = '2023-12-31'\n",
    "products = vendors['ingredient_supplied'].unique()  # Use ingredients from vendors data as products\n",
    "\n",
    "product_demand_data = generate_product_demand_data(start_date, end_date, products=products)\n",
    "\n",
    "\n",
    "product_demand_data.head(), product_demand_data.shape\n"
   ]
  },
  {
   "cell_type": "markdown",
   "metadata": {},
   "source": [
    "# Export Generated Data To Pickle"
   ]
  },
  {
   "cell_type": "code",
   "execution_count": 7,
   "metadata": {},
   "outputs": [],
   "source": [
    "# Save datasets to Pickle\n",
    "\n",
    "generated_data_filepath = '../../data/generated/demand-forecast/'\n",
    "\n",
    "vendors.to_pickle(f'{generated_data_filepath}vendors.pkl')\n",
    "purchase_history.to_pickle(f'{generated_data_filepath}purchase_history.pkl')\n",
    "product_demand_data.to_pickle(f'{generated_data_filepath}product_demand.pkl')"
   ]
  }
 ],
 "metadata": {
  "kernelspec": {
   "display_name": "base",
   "language": "python",
   "name": "python3"
  },
  "language_info": {
   "codemirror_mode": {
    "name": "ipython",
    "version": 3
   },
   "file_extension": ".py",
   "mimetype": "text/x-python",
   "name": "python",
   "nbconvert_exporter": "python",
   "pygments_lexer": "ipython3",
   "version": "3.11.7"
  }
 },
 "nbformat": 4,
 "nbformat_minor": 2
}
