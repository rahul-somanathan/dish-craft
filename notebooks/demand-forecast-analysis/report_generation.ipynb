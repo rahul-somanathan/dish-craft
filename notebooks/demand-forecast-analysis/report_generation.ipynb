{
 "cells": [
  {
   "cell_type": "markdown",
   "metadata": {},
   "source": [
    "# Environment Setup"
   ]
  },
  {
   "cell_type": "markdown",
   "metadata": {},
   "source": [
    "## Library Installation"
   ]
  },
  {
   "cell_type": "code",
   "execution_count": 1596,
   "metadata": {},
   "outputs": [],
   "source": [
    "# Installing Utility Libraries\n",
    "\n",
    "# pip install fpdf\n",
    "# pip install kaleido\n",
    "# pip install dataframe_image"
   ]
  },
  {
   "cell_type": "markdown",
   "metadata": {},
   "source": [
    "# Import Libraries"
   ]
  },
  {
   "cell_type": "code",
   "execution_count": 1597,
   "metadata": {},
   "outputs": [],
   "source": [
    "# Importing Utility Libraries\n",
    "\n",
    "import fpdf\n",
    "from fpdf import FPDF\n",
    "import time\n",
    "import pandas as pd\n",
    "import matplotlib.pyplot as plt\n",
    "import dataframe_image as dfi"
   ]
  },
  {
   "cell_type": "markdown",
   "metadata": {},
   "source": [
    "# Report Generation"
   ]
  },
  {
   "cell_type": "markdown",
   "metadata": {},
   "source": [
    "## Initialize fields"
   ]
  },
  {
   "cell_type": "code",
   "execution_count": 1598,
   "metadata": {},
   "outputs": [],
   "source": [
    "# Global Variables\n",
    "TITLE = \"Demand Forecast Report\"\n",
    "WIDTH = 210\n",
    "HEIGHT = 297\n",
    "\n",
    "demand_forecast_data_plots_file_path = '../../reports/demand-forecast/'"
   ]
  },
  {
   "cell_type": "markdown",
   "metadata": {},
   "source": [
    "## Utility Functions"
   ]
  },
  {
   "cell_type": "code",
   "execution_count": 1599,
   "metadata": {},
   "outputs": [],
   "source": [
    "def create_title(title, pdf):\n",
    "    # Set position below header\n",
    "    pdf.set_y(40)  # Adjust as necessary based on your header height\n",
    "    pdf.ln(8)  # Add additional padding of 20 mm\n",
    "    # Set font for title and center align\n",
    "    pdf.set_font('Helvetica', 'b', 20)\n",
    "    pdf.multi_cell(WIDTH, 10, title, 0, 'C')  # Center align text\n",
    "   \n",
    "    # Add date of report\n",
    "    pdf.set_font('Helvetica', '', 14)\n",
    "    pdf.set_text_color(100)\n",
    "    today = time.strftime(\"%d/%m/%Y\")\n",
    "    pdf.multi_cell(WIDTH, 8, today, 0, 'C')  # Center align date\n",
    "    pdf.ln(2)  # Add line break after date\n",
    "\n",
    "def add_subheading(subheading, pdf):\n",
    "    pdf.set_font('Helvetica', 'b', 16)\n",
    "    pdf.ln(10)  # Add a line break before the subheading\n",
    "    pdf.cell(0, 10, subheading, 0, 1, 'L')  # Left-align the subheading\n",
    "    pdf.ln(5)  # Add a line break after the subheading\n",
    "\n",
    "# Define the function to add a subheading with bullet points\n",
    "def add_subheading_with_bullet(subheading, pdf):\n",
    "    pdf.set_font('Helvetica', 'b', 14)\n",
    "     # Add a line break before the subheading\n",
    "    \n",
    "    pdf.cell(0, 10, f'{subheading}', 0, 1, 'L')  # Add hyphen and subheading\n",
    "    pdf.ln(5)  # Add a smaller line break after the subheading\n",
    "\n",
    "# def write_to_pdf(pdf, words):\n",
    "    \n",
    "#     # Set text colour, font size, and font type\n",
    "#     pdf.set_text_color(r=0,g=0,b=0)\n",
    "#     pdf.set_font('Helvetica', '', 12)\n",
    "    \n",
    "#     pdf.write(5, words)\n",
    "\n",
    "def write_to_pdf(pdf, words):\n",
    "    # Set text color, font size, and font type\n",
    "    pdf.set_text_color(0, 0, 0)\n",
    "    pdf.set_font('Helvetica', '', 12)\n",
    "    \n",
    "    max_width = WIDTH - 30  # Adjust this according to your page width\n",
    "    \n",
    "    pdf.write_justified(max_width, words)\n",
    "    pdf.ln() "
   ]
  },
  {
   "cell_type": "markdown",
   "metadata": {},
   "source": [
    "## Initalize PDF Class"
   ]
  },
  {
   "cell_type": "code",
   "execution_count": 1600,
   "metadata": {},
   "outputs": [],
   "source": [
    "class PDF(FPDF):\n",
    "\n",
    "    def write_justified(self, width, txt):\n",
    "        # Split the text into words\n",
    "        words = txt.split()\n",
    "        space_width = self.get_string_width(' ')\n",
    "        current_line = \"\"\n",
    "        \n",
    "        for word in words:\n",
    "            # Calculate the width of the current line with the new word\n",
    "            if current_line:\n",
    "                current_line += ' '\n",
    "            current_line += word\n",
    "            if self.get_string_width(current_line) > width:\n",
    "                # Calculate the remaining space to justify\n",
    "                remaining_space = width - self.get_string_width(current_line[:-len(word)])\n",
    "                # Count the number of spaces in the current line\n",
    "                num_spaces = current_line.count(' ') - 1\n",
    "                if num_spaces > 0:\n",
    "                    # Calculate the space increment\n",
    "                    space_increment = remaining_space / num_spaces\n",
    "                    # Replace spaces with adjusted spaces\n",
    "                    current_line = current_line.replace(' ', ' ' * int(space_increment) + ' ', num_spaces)\n",
    "                # Output the justified line\n",
    "                self.cell(width, 10, current_line[:-len(word)], 0, 1)\n",
    "                current_line = word\n",
    "        \n",
    "        # Output the last line\n",
    "        self.cell(width, 10, current_line, 0, 1)\n",
    "\n",
    "    def header(self):\n",
    "        # Add header image (letterhead) at the top of each page\n",
    "        self.image('../../resources/DishCraft_Letter_Head_v2.png', 0, 0, WIDTH)\n",
    "        self.set_y(40)  # Adjust this value as needed to ensure it is below the letterhead\n",
    "    \n",
    "    def footer(self):\n",
    "        self.set_y(-15)\n",
    "        self.image('../../resources/DishCraft_Footer_v2.png', x=10, y=self.get_y(), w=190)"
   ]
  },
  {
   "cell_type": "markdown",
   "metadata": {},
   "source": [
    "## First Page"
   ]
  },
  {
   "cell_type": "code",
   "execution_count": 1601,
   "metadata": {},
   "outputs": [],
   "source": [
    "# Create PDF\n",
    "pdf = PDF() # A4 (210 by 297 mm)\n",
    "\n",
    "\n",
    "'''\n",
    "First Page of PDF\n",
    "'''\n",
    "# Add Page\n",
    "pdf.add_page()\n",
    "\n",
    "create_title(TITLE, pdf)\n",
    "\n",
    "# Introduction\n",
    "intro_text = \"\"\"\n",
    "This report presents the demand forecasting analysis for a retail dataset, \n",
    "including vendor data, purchase history, and product demand data. The data \n",
    "was cleaned and preprocessed to handle missing values and duplicates. \n",
    "Exploratory Data Analysis (EDA) was performed to identify patterns, correlations, \n",
    "and anomalies. A machine learning model was developed to predict future demand, \n",
    "and the results are presented in this report.\n",
    "\"\"\"\n",
    "write_to_pdf(pdf, intro_text)\n",
    "\n",
    "# Insert Dataset Info Images in Two-Column Format\n",
    "pdf.set_font('Helvetica', 'B', 14)\n",
    "\n",
    "# Vendor Data Info\n",
    "pdf.cell(WIDTH/2 - 5, 10, 'Vendor Data Info:', 0, 1)\n",
    "pdf.image('../../reports/demand-forecast/vendor_info.png', x=10, y=pdf.get_y(), w=WIDTH/2-15, h=70)  # Adjusted height\n",
    "pdf.ln(80)  # Reduced spacing\n",
    "\n",
    "# Purchase History Data Info (without extra padding at top)\n",
    "pdf.set_xy(10, pdf.get_y() - 20)\n",
    "pdf.cell(WIDTH/2 - 5, 10, 'Purchase History Data Info:', 0, 1)\n",
    "pdf.image('../../reports/demand-forecast/purchase_history_data_info.png', x=10, y=pdf.get_y()+10, w=WIDTH/2-20, h=70)  # Adjusted height\n",
    "pdf.ln(80)  # Reduced spacing\n",
    "\n",
    "# Product Demand Data Info\n",
    "pdf.set_xy(WIDTH/2 + 5, pdf.get_y() - 162)  # Adjusted positioning\n",
    "pdf.cell(WIDTH/2 - 5, 10, 'Product Demand Data Info:', 0, 1)\n",
    "pdf.image('../../reports/demand-forecast/product_demand_data_info.png', x=WIDTH/2 + 10, y=pdf.get_y(), w=WIDTH/2-20, h=70)  # Adjusted height\n",
    "pdf.ln(80)  # Reduced spacing\n",
    "\n",
    "# Ensure there's enough space for further content\n",
    "pdf.ln(10)\n"
   ]
  },
  {
   "cell_type": "markdown",
   "metadata": {},
   "source": [
    "## Second Page"
   ]
  },
  {
   "cell_type": "code",
   "execution_count": 1602,
   "metadata": {},
   "outputs": [],
   "source": [
    "'''\n",
    "Second Page of PDF\n",
    "'''\n",
    "# Add Page\n",
    "pdf.add_page()\n",
    "\n",
    "pdf.set_font('Helvetica', 'B', 16)\n",
    "eda_subheading_y = pdf.get_y() + 10\n",
    "pdf.ln(5)\n",
    "add_subheading_with_bullet('Exploratory Data Analysis (EDA)', pdf)\n",
    "\n",
    "# Exploratory Data Analysis (EDA)\n",
    "eda_text = \"\"\"\n",
    "Exploratory Data Analysis (EDA) was conducted to understand the data better. \n",
    "The following visualizations provide insights into the distribution of variables, \n",
    "relationships between features, and trends over time.\n",
    "\"\"\"\n",
    "write_to_pdf(pdf, eda_text)\n",
    "\n",
    "# Set initial positions for the left and right columns\n",
    "left_column_x = 10\n",
    "right_column_x = 110\n",
    "\n",
    "# Add first subheading with bullet points and image in two-column format\n",
    "pdf.set_xy(left_column_x, pdf.get_y())\n",
    "add_subheading_with_bullet('Missing values in purchase history data', pdf)\n",
    "\n",
    "# Move to the next line to align with the subheading\n",
    "pdf.ln(5)\n",
    "\n",
    "# Add Image in the left column\n",
    "pdf.image(f'{demand_forecast_data_plots_file_path}purchase_history_missing_values.png', x=left_column_x, y=pdf.get_y(), w=90)\n",
    "\n",
    "# Move to the right column\n",
    "pdf.set_xy(right_column_x, eda_subheading_y + 50)\n",
    "\n",
    "# Add second subheading with bullet points and image in two-column format\n",
    "add_subheading_with_bullet('Vendor data count plot for vendor names', pdf)\n",
    "\n",
    "# Move to the next line to align with the subheading\n",
    "pdf.ln(5)\n",
    "\n",
    "# Add Image in the right column\n",
    "pdf.image(f'{demand_forecast_data_plots_file_path}vendor_data_count_plot_vendor_names.png', x=right_column_x, y=pdf.get_y(), w=90)\n",
    "\n",
    "# Add third subheading with bullet points and image in two-column format\n",
    "pdf.set_xy(left_column_x, pdf.get_y() + 60)\n",
    "add_subheading_with_bullet('Vendor data count plot for ingredients & categories', pdf)\n",
    "\n",
    "# Move to the next line to align with the subheading\n",
    "pdf.ln(5)\n",
    "\n",
    "# Add Image in the left column for the third section\n",
    "pdf.image(f'{demand_forecast_data_plots_file_path}vendor_data_countplot_ingrediant_categories.png', x=left_column_x, y=pdf.get_y(), w=90)\n",
    "\n"
   ]
  },
  {
   "cell_type": "markdown",
   "metadata": {},
   "source": [
    "## Third Page\n",
    "\n"
   ]
  },
  {
   "cell_type": "code",
   "execution_count": 1603,
   "metadata": {},
   "outputs": [],
   "source": [
    "'''\n",
    "Third Page of PDF\n",
    "'''\n",
    "# Add Page\n",
    "pdf.add_page()\n",
    "\n",
    "\n",
    "# Add first subheading with bullet points and image in two-column format\n",
    "pdf.set_xy(left_column_x, pdf.get_y() + 10)\n",
    "add_subheading_with_bullet('Wordcloud of vendor names', pdf)\n",
    "\n",
    "# Move to the next line to align with the subheading\n",
    "pdf.ln(5)\n",
    "\n",
    "# Add Image in the left column\n",
    "pdf.image(f'{demand_forecast_data_plots_file_path}vendor_data_wordcloud_vendor_names.png', x=left_column_x, y=pdf.get_y(), w=90)\n",
    "\n",
    "# Move to the next line to align with the subheading\n",
    "pdf.ln(5)\n",
    "\n",
    "# Add first subheading with bullet points and image in two-column format\n",
    "pdf.set_xy(left_column_x, pdf.get_y() + 50)\n",
    "add_subheading_with_bullet('Purchase history data histogram', pdf)\n",
    "\n",
    "# Move to the next line to align with the subheading\n",
    "pdf.ln(5)\n",
    "\n",
    "# Add Image in the left column\n",
    "pdf.image(f'{demand_forecast_data_plots_file_path}purchase_history_histogram_quantity_purchased.png', x=left_column_x, y=pdf.get_y(), w=90)\n",
    "\n",
    "# Move to the right column\n",
    "pdf.set_xy(right_column_x, pdf.get_y() - 95)\n",
    "\n",
    "# Add second subheading with bullet points and image in two-column format\n",
    "add_subheading_with_bullet('Purchase history ingrediants wordcloud', pdf)\n",
    "\n",
    "# Move to the next line to align with the subheading\n",
    "pdf.ln(5)\n",
    "\n",
    "# Add Image in the right column\n",
    "pdf.image(f'{demand_forecast_data_plots_file_path}purchase_history_wordcloud_ingrediants.png', x=right_column_x, y=pdf.get_y(), w=90)\n",
    "\n",
    "\n",
    "# Move to the right column\n",
    "pdf.set_xy(right_column_x, pdf.get_y() + 55)\n",
    "\n",
    "# Add second subheading with bullet points and image in two-column format\n",
    "add_subheading_with_bullet('Purchase history monthly data', pdf)\n",
    "\n",
    "# Move to the next line to align with the subheading\n",
    "pdf.ln(5)\n",
    "\n",
    "# Add Image in the right column\n",
    "pdf.image(f'{demand_forecast_data_plots_file_path}purchase_history_monthly_quantity_purchased.png', x=right_column_x, y=pdf.get_y(), w=90)\n",
    "\n"
   ]
  },
  {
   "cell_type": "code",
   "execution_count": 1604,
   "metadata": {},
   "outputs": [],
   "source": [
    "# '''\n",
    "# Third Page of PDF\n",
    "# '''\n",
    "\n",
    "# # Add Page\n",
    "# pdf.add_page()\n",
    "\n",
    "# pdf.set_font('Helvetica', 'B', 16)\n",
    "# add_subheading('Model Evaluation',pdf)\n",
    "\n",
    "# # Model Evaluation\n",
    "# model_eval_text = \"\"\"\n",
    "# The demand forecasting model was developed using Linear Regression. The following \n",
    "# metrics were used to evaluate the model performance:\n",
    "# - Mean Absolute Error (MAE)\n",
    "# - Mean Squared Error (MSE)\n",
    "# - R-squared (R²)\n",
    "\n",
    "# The visualizations below show the model's predictions compared to the actual values.\n",
    "# \"\"\"\n",
    "# write_to_pdf(pdf, model_eval_text)\n",
    "\n",
    "# pdf.ln(15)\n",
    "\n",
    "\n",
    "\n"
   ]
  },
  {
   "cell_type": "markdown",
   "metadata": {},
   "source": [
    "## Fourth Page"
   ]
  },
  {
   "cell_type": "code",
   "execution_count": 1605,
   "metadata": {},
   "outputs": [],
   "source": [
    "'''\n",
    "Fourth Page of PDF\n",
    "'''\n",
    "# Add Page\n",
    "pdf.add_page()\n",
    "\n",
    "\n",
    "# Add first subheading with bullet points and image in two-column format\n",
    "pdf.set_xy(left_column_x, pdf.get_y() + 10)\n",
    "add_subheading_with_bullet('Demand distribution by product', pdf)\n",
    "\n",
    "# Move to the next line to align with the subheading\n",
    "pdf.ln(5)\n",
    "\n",
    "# Add Image in the left column\n",
    "pdf.image(f'{demand_forecast_data_plots_file_path}product_demand_data_boxplot_demand_distribution_by_product.png', x=left_column_x, y=pdf.get_y(), w=160)\n",
    "\n",
    "# Move to the next line to align with the subheading\n",
    "pdf.ln(5)\n",
    "\n",
    "# Add first subheading with bullet points and image in two-column format\n",
    "pdf.set_xy(left_column_x, pdf.get_y() + 80)\n",
    "add_subheading_with_bullet('Demand vs Price', pdf)\n",
    "\n",
    "# Move to the next line to align with the subheading\n",
    "pdf.ln(5)\n",
    "\n",
    "# Add Image in the left column\n",
    "pdf.image(f'{demand_forecast_data_plots_file_path}product_demand_data_scatter_plot_demand_vs_price.png', x=left_column_x, y=pdf.get_y(), w=160)\n"
   ]
  },
  {
   "cell_type": "markdown",
   "metadata": {},
   "source": [
    "## Fifth Page\n"
   ]
  },
  {
   "cell_type": "code",
   "execution_count": 1606,
   "metadata": {},
   "outputs": [],
   "source": [
    "'''\n",
    "Fifth Page of PDF\n",
    "'''\n",
    "# Add Page\n",
    "pdf.add_page()\n",
    "\n",
    "# Add first subheading with bullet points and image in two-column format\n",
    "pdf.set_xy(left_column_x, pdf.get_y() + 10)\n",
    "add_subheading_with_bullet('Vendor Locations and Ingredient Supply', pdf)\n",
    "\n",
    "# Move to the next line to align with the subheading\n",
    "pdf.ln(5)\n",
    "\n",
    "# Add Image in the left column\n",
    "pdf.image(f'{demand_forecast_data_plots_file_path}vendor_scatterplot_vendor_location_to_ingrediant_group_1.png', x=left_column_x, y=pdf.get_y(), w=160)\n",
    "\n",
    "\n",
    "# Add Image in the left column\n",
    "pdf.set_xy(left_column_x, pdf.get_y() + 105)\n",
    "pdf.image(f'{demand_forecast_data_plots_file_path}vendor_scatterplot_vendor_location_to_ingrediant_group_2.png', x=left_column_x, y=pdf.get_y(), w=160)\n"
   ]
  },
  {
   "cell_type": "markdown",
   "metadata": {},
   "source": [
    "## Sixth Page"
   ]
  },
  {
   "cell_type": "code",
   "execution_count": 1607,
   "metadata": {},
   "outputs": [],
   "source": [
    "'''\n",
    "Fifth Page of PDF\n",
    "'''\n",
    "# Add Page\n",
    "pdf.add_page()\n",
    "\n",
    "# Add first subheading with bullet points and image in two-column format\n",
    "pdf.set_xy(left_column_x, pdf.get_y() + 10)\n",
    "add_subheading_with_bullet('Vendor Locations and Ingredient Supply (contd. . .)', pdf)\n",
    "\n",
    "# Move to the next line to align with the subheading\n",
    "pdf.ln(5)\n",
    "\n",
    "# Add Image in the left column\n",
    "pdf.image(f'{demand_forecast_data_plots_file_path}vendor_scatterplot_vendor_location_to_ingrediant_group_3.png', x=left_column_x, y=pdf.get_y(), w=160)\n",
    "\n"
   ]
  },
  {
   "cell_type": "markdown",
   "metadata": {},
   "source": [
    "## Seventh Page"
   ]
  },
  {
   "cell_type": "code",
   "execution_count": 1608,
   "metadata": {},
   "outputs": [],
   "source": [
    "'''\n",
    "Seventh Page of PDF\n",
    "'''\n",
    "# Add Page\n",
    "pdf.add_page()\n",
    "\n",
    "# Add System Features Text\n",
    "system_features_text = \"\"\"\n",
    "This report was generated automatically using a Python-based PDF generation engine. \n",
    "The system efficiently processed and analyzed a retail dataset, including vendor \n",
    "data, purchase history, and product demand data. Key features of the system include:\n",
    "- Automated report generation, ensuring consistency and reliability.\n",
    "- Integration of exploratory data analysis (EDA) techniques to uncover insights \n",
    "  from the dataset.\n",
    "- Automated creation of visualizations such as charts and graphs to illustrate \n",
    "  trends and patterns in the data.\n",
    "- Utilization of machine learning models for demand forecasting, providing \n",
    "  accurate predictions for future demand.\n",
    "  \n",
    "The automation of report generation and visualization creation not only saves \n",
    "time and effort but also enhances the reproducibility and scalability of the \n",
    "analysis. This approach enables stakeholders to quickly gain actionable insights \n",
    "from the data, facilitating informed decision-making and optimizing business strategies.\n",
    "\"\"\"\n",
    "\n",
    "pdf.ln(5)\n",
    "\n",
    "add_subheading('System Features',pdf)\n",
    "\n",
    "write_to_pdf(pdf, system_features_text)"
   ]
  },
  {
   "cell_type": "code",
   "execution_count": 1609,
   "metadata": {},
   "outputs": [],
   "source": [
    "'''\n",
    "Eigth Page of PDF\n",
    "'''\n",
    "# Add Page\n",
    "pdf.add_page()\n",
    "\n",
    "conclusion_text = \"\"\"\n",
    "In conclusion, this report has provided a comprehensive analysis of demand forecasting \n",
    "for a retail dataset. The data cleaning and preprocessing stages ensured that the dataset \n",
    "was ready for analysis, handling missing values and duplicates effectively. Exploratory \n",
    "Data Analysis (EDA) revealed valuable insights into the relationships and trends within \n",
    "the data, guiding the development of a machine learning model. The predictive model \n",
    "demonstrated promising results in forecasting future demand, which can assist stakeholders \n",
    "in making informed decisions to optimize inventory management and meet customer demands \n",
    "effectively.\n",
    "\"\"\"\n",
    "\n",
    "pdf.ln(5)\n",
    "\n",
    "add_subheading('Conclusion', pdf)\n",
    "\n",
    "write_to_pdf(pdf, conclusion_text)"
   ]
  },
  {
   "cell_type": "code",
   "execution_count": 1610,
   "metadata": {},
   "outputs": [],
   "source": [
    "\n",
    "# # Exploratory Data Analysis (EDA)\n",
    "# eda_text = \"\"\"\n",
    "# Exploratory Data Analysis (EDA) was conducted to understand the data better. \n",
    "# The following visualizations provide insights into the distribution of variables, \n",
    "# relationships between features, and trends over time.\n",
    "# \"\"\"\n",
    "# write_to_pdf(pdf, eda_text)\n",
    "\n",
    "# # Model Evaluation\n",
    "# model_eval_text = \"\"\"\n",
    "# The demand forecasting model was developed using Linear Regression. The following \n",
    "# metrics were used to evaluate the model performance:\n",
    "# - Mean Absolute Error (MAE)\n",
    "# - Mean Squared Error (MSE)\n",
    "# - R-squared (R²)\n",
    "\n",
    "# The visualizations below show the model's predictions compared to the actual values.\n",
    "# \"\"\"\n",
    "# write_to_pdf(pdf, model_eval_text)\n",
    "\n",
    "# # Demand Forecast\n",
    "# forecast_text = \"\"\"\n",
    "# The demand forecasting model was used to predict future demand. The following \n",
    "# visualizations show the forecasted demand compared to the actual demand.\n",
    "# \"\"\"\n",
    "# write_to_pdf(pdf, forecast_text)"
   ]
  },
  {
   "cell_type": "code",
   "execution_count": 1611,
   "metadata": {},
   "outputs": [
    {
     "data": {
      "text/plain": [
       "''"
      ]
     },
     "execution_count": 1611,
     "metadata": {},
     "output_type": "execute_result"
    }
   ],
   "source": [
    "# Generate the PDF\n",
    "pdf.output(\"../../reports/demand-forecast/pdf/DishCraft_Demand_Forecast_Report_v1.pdf\", 'F')"
   ]
  }
 ],
 "metadata": {
  "kernelspec": {
   "display_name": "base",
   "language": "python",
   "name": "python3"
  },
  "language_info": {
   "codemirror_mode": {
    "name": "ipython",
    "version": 3
   },
   "file_extension": ".py",
   "mimetype": "text/x-python",
   "name": "python",
   "nbconvert_exporter": "python",
   "pygments_lexer": "ipython3",
   "version": "3.1.-1"
  }
 },
 "nbformat": 4,
 "nbformat_minor": 2
}
