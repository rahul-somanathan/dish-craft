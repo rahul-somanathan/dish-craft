{
 "cells": [
  {
   "cell_type": "markdown",
   "metadata": {},
   "source": [
    "# Environment Setup"
   ]
  },
  {
   "cell_type": "markdown",
   "metadata": {},
   "source": [
    "## Import Libraries"
   ]
  },
  {
   "cell_type": "code",
   "execution_count": 31,
   "metadata": {},
   "outputs": [],
   "source": [
    "import pandas as pd"
   ]
  },
  {
   "cell_type": "markdown",
   "metadata": {},
   "source": [
    "## Load Dataset"
   ]
  },
  {
   "cell_type": "code",
   "execution_count": 32,
   "metadata": {},
   "outputs": [],
   "source": [
    "file_path = '../../data/generated/hello-fresh/'"
   ]
  },
  {
   "cell_type": "code",
   "execution_count": 33,
   "metadata": {},
   "outputs": [],
   "source": [
    "\n",
    "# User Interaction Data\n",
    "user_interaction_data = [\n",
    "    {\"User ID\": 1, \"Sessions\": 15, \"Average Time per Session (min)\": 12.5, \"Favorite Recipes\": \"Quinoa Salad, Spring Pasta\", \"Last Purchase\": \"2023-07-10\"},\n",
    "    {\"User ID\": 2, \"Sessions\": 10, \"Average Time per Session (min)\": 8.2, \"Favorite Recipes\": \"BBQ Burger, Margherita Pizza\", \"Last Purchase\": \"2023-07-12\"},\n",
    "    {\"User ID\": 3, \"Sessions\": 12, \"Average Time per Session (min)\": 10.6, \"Favorite Recipes\": \"Grilled Salmon, Tomato Soup\", \"Last Purchase\": \"2023-07-11\"},\n",
    "    {\"User ID\": 4, \"Sessions\": 8, \"Average Time per Session (min)\": 15.3, \"Favorite Recipes\": \"Tofu Tacos, Fruit Smoothie\", \"Last Purchase\": \"2023-07-09\"},\n",
    "    {\"User ID\": 5, \"Sessions\": 20, \"Average Time per Session (min)\": 7.8, \"Favorite Recipes\": \"Chicken Curry, Mushroom Risotto\", \"Last Purchase\": \"2023-07-08\"}\n",
    "]\n",
    "\n",
    "user_interaction_df = pd.DataFrame(user_interaction_data)\n",
    "user_interaction_pickle = file_path + \"user_interaction_data.parquet\"\n",
    "user_interaction_df.to_parquet(user_interaction_pickle)"
   ]
  },
  {
   "cell_type": "code",
   "execution_count": 34,
   "metadata": {},
   "outputs": [],
   "source": [
    "\n",
    "# Delivery Preferences\n",
    "delivery_preferences = [\n",
    "    {\"User ID\": 1, \"Delivery Address\": \"123 Main St, Toronto\", \"Delivery Frequency\": \"2 times per week\", \"Preferred Delivery Day\": \"Tuesday and Friday\"},\n",
    "    {\"User ID\": 2, \"Delivery Address\": \"456 Maple Ave, Vancouver\", \"Delivery Frequency\": \"3 times per week\", \"Preferred Delivery Day\": \"Monday, Wednesday, Friday\"},\n",
    "    {\"User ID\": 3, \"Delivery Address\": \"789 Pine Rd, Montreal\", \"Delivery Frequency\": \"1 time per week\", \"Preferred Delivery Day\": \"Thursday\"},\n",
    "    {\"User ID\": 4, \"Delivery Address\": \"101 Oak St, Calgary\", \"Delivery Frequency\": \"2 times per week\", \"Preferred Delivery Day\": \"Wednesday and Saturday\"},\n",
    "    {\"User ID\": 5, \"Delivery Address\": \"222 Elm St, Ottawa\", \"Delivery Frequency\": \"4 times per week\", \"Preferred Delivery Day\": \"Monday, Tuesday, Thursday, Saturday\"}\n",
    "]\n",
    "\n",
    "delivery_preferences_df = pd.DataFrame(delivery_preferences)\n",
    "delivery_preferences_pickle = file_path + \"delivery_preferences.parquet\"\n",
    "delivery_preferences_df.to_parquet(delivery_preferences_pickle)\n"
   ]
  },
  {
   "cell_type": "code",
   "execution_count": 35,
   "metadata": {},
   "outputs": [],
   "source": [
    "\n",
    "# Recipe Preferences\n",
    "recipe_preferences = [\n",
    "    {\"User ID\": 1, \"Preferred Category\": \"Salads\", \"Most Requested Recipes\": \"Quinoa Salad, Caesar Salad\"},\n",
    "    {\"User ID\": 2, \"Preferred Category\": \"Meats\", \"Most Requested Recipes\": \"BBQ Burger, Teriyaki Chicken\"},\n",
    "    {\"User ID\": 3, \"Preferred Category\": \"Seafood\", \"Most Requested Recipes\": \"Grilled Salmon, Shrimp Ceviche\"},\n",
    "    {\"User ID\": 4, \"Preferred Category\": \"Vegan\", \"Most Requested Recipes\": \"Fruit Smoothie, Garbanzo Bowl\"},\n",
    "    {\"User ID\": 5, \"Preferred Category\": \"International Dishes\", \"Most Requested Recipes\": \"Chicken Curry, Sushi Rolls\"}\n",
    "]\n",
    "\n",
    "recipe_preferences_df = pd.DataFrame(recipe_preferences)\n",
    "recipe_preferences_pickle = file_path + \"recipe_preferences.parquet\"\n",
    "recipe_preferences_df.to_parquet(recipe_preferences_pickle)"
   ]
  }
 ],
 "metadata": {
  "kernelspec": {
   "display_name": "base",
   "language": "python",
   "name": "python3"
  },
  "language_info": {
   "codemirror_mode": {
    "name": "ipython",
    "version": 3
   },
   "file_extension": ".py",
   "mimetype": "text/x-python",
   "name": "python",
   "nbconvert_exporter": "python",
   "pygments_lexer": "ipython3",
   "version": "3.11.7"
  }
 },
 "nbformat": 4,
 "nbformat_minor": 2
}
