{
 "cells": [
  {
   "cell_type": "markdown",
   "metadata": {},
   "source": [
    "# Environment Setup"
   ]
  },
  {
   "cell_type": "markdown",
   "metadata": {},
   "source": [
    "## Import Libraries"
   ]
  },
  {
   "cell_type": "code",
   "execution_count": 15,
   "metadata": {},
   "outputs": [],
   "source": [
    "from pytrends.request import TrendReq\n",
    "import pandas as pd\n",
    "import matplotlib.pyplot as plt\n",
    "from wordcloud import WordCloud\n",
    "\n",
    "from selenium import webdriver\n",
    "import time"
   ]
  },
  {
   "cell_type": "markdown",
   "metadata": {},
   "source": [
    "## Utility Functions"
   ]
  },
  {
   "cell_type": "code",
   "execution_count": 16,
   "metadata": {},
   "outputs": [],
   "source": [
    "def get_cookie():\n",
    "    options = webdriver.ChromeOptions()\n",
    "    options.add_argument(\"--headless\")\n",
    "    driver = webdriver.Chrome(options=options)\n",
    "    driver.get(\"https://trends.google.com/\")\n",
    "    time.sleep(5)\n",
    "    cookie = driver.get_cookie(\"NID\")[\"value\"]\n",
    "    driver.quit()\n",
    "    return cookie"
   ]
  },
  {
   "cell_type": "code",
   "execution_count": 17,
   "metadata": {},
   "outputs": [],
   "source": [
    "# Initialize pytrends request\n",
    "def get_pytrends_request():\n",
    "    nid_cookie = f\"NID={get_cookie()}\"\n",
    "    pytrends = TrendReq(hl='en-US', tz=360, requests_args={\"headers\": {\"Cookie\": nid_cookie}})\n",
    "    return pytrends "
   ]
  },
  {
   "cell_type": "code",
   "execution_count": 18,
   "metadata": {},
   "outputs": [],
   "source": [
    "def build_pytrends_payload(pytrends,keyword):\n",
    "     pytrends.build_payload([keyword], cat=0, timeframe='2020-01-01 2024-01-01', geo='', gprop='')"
   ]
  },
  {
   "cell_type": "markdown",
   "metadata": {},
   "source": [
    "# Scrapping Data"
   ]
  },
  {
   "cell_type": "code",
   "execution_count": 14,
   "metadata": {},
   "outputs": [],
   "source": [
    "# Define the keywords to search for\n",
    "\n",
    "keywords = [\n",
    "    \"Indigenous recipes Canada\",\n",
    "    \"Traditional Aboriginal food\",\n",
    "    \"Native Canadian cuisine\",\n",
    "    \"First Nations recipes\",\n",
    "    \"Métis cuisine\",\n",
    "]\n"
   ]
  },
  {
   "cell_type": "code",
   "execution_count": 19,
   "metadata": {},
   "outputs": [],
   "source": [
    "# Build the payload\n",
    "pytrends = get_pytrends_request()\n",
    "pytrends.build_payload(keywords, cat=0, timeframe='today 12-m', geo='', gprop='')"
   ]
  },
  {
   "cell_type": "code",
   "execution_count": 20,
   "metadata": {},
   "outputs": [
    {
     "name": "stderr",
     "output_type": "stream",
     "text": [
      "/Users/rahul_somanathan/Blackhole/Lambton/WIL/CodeBase/recipe-recommendation-engine/.conda/lib/python3.11/site-packages/pytrends/request.py:260: FutureWarning: Downcasting object dtype arrays on .fillna, .ffill, .bfill is deprecated and will change in a future version. Call result.infer_objects(copy=False) instead. To opt-in to the future behavior, set `pd.set_option('future.no_silent_downcasting', True)`\n",
      "  df = df.fillna(False)\n"
     ]
    },
    {
     "data": {
      "text/html": [
       "<div>\n",
       "<style scoped>\n",
       "    .dataframe tbody tr th:only-of-type {\n",
       "        vertical-align: middle;\n",
       "    }\n",
       "\n",
       "    .dataframe tbody tr th {\n",
       "        vertical-align: top;\n",
       "    }\n",
       "\n",
       "    .dataframe thead th {\n",
       "        text-align: right;\n",
       "    }\n",
       "</style>\n",
       "<table border=\"1\" class=\"dataframe\">\n",
       "  <thead>\n",
       "    <tr style=\"text-align: right;\">\n",
       "      <th></th>\n",
       "      <th>Indigenous recipes Canada</th>\n",
       "      <th>Traditional Aboriginal food</th>\n",
       "      <th>Native Canadian cuisine</th>\n",
       "      <th>First Nations recipes</th>\n",
       "      <th>Métis cuisine</th>\n",
       "      <th>isPartial</th>\n",
       "    </tr>\n",
       "    <tr>\n",
       "      <th>date</th>\n",
       "      <th></th>\n",
       "      <th></th>\n",
       "      <th></th>\n",
       "      <th></th>\n",
       "      <th></th>\n",
       "      <th></th>\n",
       "    </tr>\n",
       "  </thead>\n",
       "  <tbody>\n",
       "    <tr>\n",
       "      <th>2023-07-02</th>\n",
       "      <td>0</td>\n",
       "      <td>0</td>\n",
       "      <td>0</td>\n",
       "      <td>0</td>\n",
       "      <td>0</td>\n",
       "      <td>False</td>\n",
       "    </tr>\n",
       "    <tr>\n",
       "      <th>2023-07-09</th>\n",
       "      <td>0</td>\n",
       "      <td>0</td>\n",
       "      <td>0</td>\n",
       "      <td>0</td>\n",
       "      <td>0</td>\n",
       "      <td>False</td>\n",
       "    </tr>\n",
       "    <tr>\n",
       "      <th>2023-07-16</th>\n",
       "      <td>0</td>\n",
       "      <td>0</td>\n",
       "      <td>0</td>\n",
       "      <td>0</td>\n",
       "      <td>0</td>\n",
       "      <td>False</td>\n",
       "    </tr>\n",
       "    <tr>\n",
       "      <th>2023-07-23</th>\n",
       "      <td>0</td>\n",
       "      <td>0</td>\n",
       "      <td>0</td>\n",
       "      <td>0</td>\n",
       "      <td>0</td>\n",
       "      <td>False</td>\n",
       "    </tr>\n",
       "    <tr>\n",
       "      <th>2023-07-30</th>\n",
       "      <td>0</td>\n",
       "      <td>0</td>\n",
       "      <td>0</td>\n",
       "      <td>0</td>\n",
       "      <td>0</td>\n",
       "      <td>False</td>\n",
       "    </tr>\n",
       "  </tbody>\n",
       "</table>\n",
       "</div>"
      ],
      "text/plain": [
       "            Indigenous recipes Canada  Traditional Aboriginal food  \\\n",
       "date                                                                 \n",
       "2023-07-02                          0                            0   \n",
       "2023-07-09                          0                            0   \n",
       "2023-07-16                          0                            0   \n",
       "2023-07-23                          0                            0   \n",
       "2023-07-30                          0                            0   \n",
       "\n",
       "            Native Canadian cuisine  First Nations recipes  Métis cuisine  \\\n",
       "date                                                                        \n",
       "2023-07-02                        0                      0              0   \n",
       "2023-07-09                        0                      0              0   \n",
       "2023-07-16                        0                      0              0   \n",
       "2023-07-23                        0                      0              0   \n",
       "2023-07-30                        0                      0              0   \n",
       "\n",
       "            isPartial  \n",
       "date                   \n",
       "2023-07-02      False  \n",
       "2023-07-09      False  \n",
       "2023-07-16      False  \n",
       "2023-07-23      False  \n",
       "2023-07-30      False  "
      ]
     },
     "execution_count": 20,
     "metadata": {},
     "output_type": "execute_result"
    }
   ],
   "source": [
    "# Get interest over time\n",
    "interest_over_time_df = pytrends.interest_over_time()\n",
    "interest_over_time_df.head()"
   ]
  },
  {
   "cell_type": "code",
   "execution_count": 21,
   "metadata": {},
   "outputs": [
    {
     "data": {
      "image/png": "[encoded data removed]",
      "text/plain": [
       "<Figure size 1400x800 with 1 Axes>"
      ]
     },
     "metadata": {},
     "output_type": "display_data"
    }
   ],
   "source": [
    "# Plot Interest over time\n",
    "plt.figure(figsize=(14, 8))\n",
    "for keyword in keywords:\n",
    "    if keyword in interest_over_time_df:\n",
    "        plt.plot(interest_over_time_df[keyword], label=keyword)\n",
    "\n",
    "plt.title('Google Trends: Sustainability and Eco-Friendly Practices')\n",
    "plt.xlabel('Date')\n",
    "plt.ylabel('Interest over time')\n",
    "plt.legend()\n",
    "plt.grid(True)\n",
    "plt.show()"
   ]
  },
  {
   "cell_type": "code",
   "execution_count": 22,
   "metadata": {},
   "outputs": [
    {
     "name": "stdout",
     "output_type": "stream",
     "text": [
      "*************************************************\n",
      "Search Keyword: Indigenous recipes Canada | Progress: 1/5\n",
      "{'Indigenous recipes Canada': {'top': None, 'rising': None}}\n",
      "-------------------------------------------------\n",
      "{'Indigenous recipes Canada': None}\n",
      "*************************************************\n",
      "*************************************************\n",
      "Search Keyword: Traditional Aboriginal food | Progress: 2/5\n"
     ]
    },
    {
     "ename": "TooManyRequestsError",
     "evalue": "The request failed: Google returned a response with code 429",
     "output_type": "error",
     "traceback": [
      "\u001b[0;31m---------------------------------------------------------------------------\u001b[0m",
      "\u001b[0;31mTooManyRequestsError\u001b[0m                      Traceback (most recent call last)",
      "Cell \u001b[0;32mIn[22], line 12\u001b[0m\n\u001b[1;32m     10\u001b[0m pytrends \u001b[38;5;241m=\u001b[39m get_pytrends_request()\n\u001b[1;32m     11\u001b[0m build_pytrends_payload(pytrends,keyword)\n\u001b[0;32m---> 12\u001b[0m related_queries \u001b[38;5;241m=\u001b[39m \u001b[43mpytrends\u001b[49m\u001b[38;5;241;43m.\u001b[39;49m\u001b[43mrelated_queries\u001b[49m\u001b[43m(\u001b[49m\u001b[43m)\u001b[49m\n\u001b[1;32m     13\u001b[0m related_queries_dict[keyword] \u001b[38;5;241m=\u001b[39m related_queries[keyword][\u001b[38;5;124m'\u001b[39m\u001b[38;5;124mtop\u001b[39m\u001b[38;5;124m'\u001b[39m]\n\u001b[1;32m     14\u001b[0m \u001b[38;5;28mprint\u001b[39m(related_queries)\n",
      "File \u001b[0;32m~/Blackhole/Lambton/WIL/CodeBase/recipe-recommendation-engine/.conda/lib/python3.11/site-packages/pytrends/request.py:440\u001b[0m, in \u001b[0;36mTrendReq.related_queries\u001b[0;34m(self)\u001b[0m\n\u001b[1;32m    437\u001b[0m related_payload[\u001b[38;5;124m'\u001b[39m\u001b[38;5;124mtz\u001b[39m\u001b[38;5;124m'\u001b[39m] \u001b[38;5;241m=\u001b[39m \u001b[38;5;28mself\u001b[39m\u001b[38;5;241m.\u001b[39mtz\n\u001b[1;32m    439\u001b[0m \u001b[38;5;66;03m# parse the returned json\u001b[39;00m\n\u001b[0;32m--> 440\u001b[0m req_json \u001b[38;5;241m=\u001b[39m \u001b[38;5;28;43mself\u001b[39;49m\u001b[38;5;241;43m.\u001b[39;49m\u001b[43m_get_data\u001b[49m\u001b[43m(\u001b[49m\n\u001b[1;32m    441\u001b[0m \u001b[43m    \u001b[49m\u001b[43murl\u001b[49m\u001b[38;5;241;43m=\u001b[39;49m\u001b[43mTrendReq\u001b[49m\u001b[38;5;241;43m.\u001b[39;49m\u001b[43mRELATED_QUERIES_URL\u001b[49m\u001b[43m,\u001b[49m\n\u001b[1;32m    442\u001b[0m \u001b[43m    \u001b[49m\u001b[43mmethod\u001b[49m\u001b[38;5;241;43m=\u001b[39;49m\u001b[43mTrendReq\u001b[49m\u001b[38;5;241;43m.\u001b[39;49m\u001b[43mGET_METHOD\u001b[49m\u001b[43m,\u001b[49m\n\u001b[1;32m    443\u001b[0m \u001b[43m    \u001b[49m\u001b[43mtrim_chars\u001b[49m\u001b[38;5;241;43m=\u001b[39;49m\u001b[38;5;241;43m5\u001b[39;49m\u001b[43m,\u001b[49m\n\u001b[1;32m    444\u001b[0m \u001b[43m    \u001b[49m\u001b[43mparams\u001b[49m\u001b[38;5;241;43m=\u001b[39;49m\u001b[43mrelated_payload\u001b[49m\u001b[43m,\u001b[49m\n\u001b[1;32m    445\u001b[0m \u001b[43m\u001b[49m\u001b[43m)\u001b[49m\n\u001b[1;32m    447\u001b[0m \u001b[38;5;66;03m# top queries\u001b[39;00m\n\u001b[1;32m    448\u001b[0m \u001b[38;5;28;01mtry\u001b[39;00m:\n",
      "File \u001b[0;32m~/Blackhole/Lambton/WIL/CodeBase/recipe-recommendation-engine/.conda/lib/python3.11/site-packages/pytrends/request.py:159\u001b[0m, in \u001b[0;36mTrendReq._get_data\u001b[0;34m(self, url, method, trim_chars, **kwargs)\u001b[0m\n\u001b[1;32m    157\u001b[0m \u001b[38;5;28;01melse\u001b[39;00m:\n\u001b[1;32m    158\u001b[0m     \u001b[38;5;28;01mif\u001b[39;00m response\u001b[38;5;241m.\u001b[39mstatus_code \u001b[38;5;241m==\u001b[39m status_codes\u001b[38;5;241m.\u001b[39mcodes\u001b[38;5;241m.\u001b[39mtoo_many_requests:\n\u001b[0;32m--> 159\u001b[0m         \u001b[38;5;28;01mraise\u001b[39;00m exceptions\u001b[38;5;241m.\u001b[39mTooManyRequestsError\u001b[38;5;241m.\u001b[39mfrom_response(response)\n\u001b[1;32m    160\u001b[0m     \u001b[38;5;28;01mraise\u001b[39;00m exceptions\u001b[38;5;241m.\u001b[39mResponseError\u001b[38;5;241m.\u001b[39mfrom_response(response)\n",
      "\u001b[0;31mTooManyRequestsError\u001b[0m: The request failed: Google returned a response with code 429"
     ]
    }
   ],
   "source": [
    "# Get related queries\n",
    "related_queries_dict = {}\n",
    "count = 1\n",
    "total_keyword_len = len(keywords)\n",
    "for keyword in keywords:\n",
    "    try:\n",
    "        print('*************************************************')\n",
    "        print(f'Search Keyword: {keyword} | Progress: {count}/{total_keyword_len}')\n",
    "        #pytrends.build_payload([keyword], cat=0, timeframe='2020-01-01 2024-01-01', geo='', gprop='')\n",
    "        pytrends = get_pytrends_request()\n",
    "        build_pytrends_payload(pytrends,keyword)\n",
    "        related_queries = pytrends.related_queries()\n",
    "        related_queries_dict[keyword] = related_queries[keyword]['top']\n",
    "        print(related_queries)\n",
    "        print('-------------------------------------------------')\n",
    "        print(related_queries_dict)\n",
    "        print('*************************************************')\n",
    "        count += 1\n",
    "    except KeyError:\n",
    "        print(f\"No related queries found for {keyword}\")\n",
    "\n",
    "\n",
    "# Display related queries\n",
    "for keyword in keywords:\n",
    "    if keyword in related_queries_dict and related_queries_dict[keyword] is not None:\n",
    "        print(f\"Top related queries for {keyword}:\")\n",
    "        print(related_queries_dict[keyword])\n",
    "    else:\n",
    "        print(f\"No related queries data for {keyword}\")\n"
   ]
  },
  {
   "cell_type": "code",
   "execution_count": null,
   "metadata": {},
   "outputs": [],
   "source": [
    "related_queries"
   ]
  },
  {
   "cell_type": "code",
   "execution_count": null,
   "metadata": {},
   "outputs": [],
   "source": [
    "# Combine related queries into a single text\n",
    "all_related_queries = ' '.join(\n",
    "    [' '.join(related_queries_dict[keyword]['query'].tolist()) for keyword in related_queries_dict if related_queries_dict[keyword] is not None]\n",
    ")\n",
    "\n",
    "# Generate word cloud\n",
    "wordcloud = WordCloud(width=800, height=400, background_color='white').generate(all_related_queries)\n",
    "\n",
    "# Display word cloud\n",
    "plt.figure(figsize=(10, 5))\n",
    "plt.imshow(wordcloud, interpolation='bilinear')\n",
    "plt.axis('off')\n",
    "plt.title('Word Cloud of Related Queries')\n",
    "plt.show()\n"
   ]
  },
  {
   "cell_type": "code",
   "execution_count": null,
   "metadata": {},
   "outputs": [],
   "source": [
    "\n",
    "rising_queries_dict = {}\n",
    "count = 1\n",
    "total_keyword_len = len(keywords)\n",
    "try:\n",
    "    for keyword in keywords:\n",
    "        #pytrends.build_payload([keyword], timeframe='today 1-m', geo='US')  # Adjust timeframe and geo as needed\n",
    "\n",
    "        print('*************************************************')\n",
    "        print(f'Search Keyword: {keyword} | Progress: {count}/{total_keyword_len}')\n",
    "        \n",
    "        pytrends = get_pytrends_request()\n",
    "        build_pytrends_payload(pytrends,keyword)\n",
    "        \n",
    "        related_queries = pytrends.related_queries()\n",
    "        \n",
    "        # Check if there are rising queries for the current keyword\n",
    "        if keyword in related_queries and related_queries[keyword] is not None and 'rising' in related_queries[keyword]:\n",
    "            rising_queries_dict[keyword] = related_queries[keyword]['rising']\n",
    "        else:\n",
    "            rising_queries_dict[keyword] = []\n",
    "\n",
    "        print(related_queries)\n",
    "        print('-------------------------------------------------')\n",
    "        print(related_queries_dict)\n",
    "        count += 1\n",
    "except Exception as e:\n",
    "    print(f\"Error fetching rising queries: {str(e)}\")\n",
    "\n",
    "# Display rising queries\n",
    "for keyword in keywords:\n",
    "    if keyword in rising_queries_dict:\n",
    "        print(f\"Rising queries for {keyword}:\")\n",
    "        print(rising_queries_dict[keyword])"
   ]
  },
  {
   "cell_type": "code",
   "execution_count": null,
   "metadata": {},
   "outputs": [],
   "source": [
    "# Combine related queries into a single text\n",
    "all_rising_queries = ' '.join(\n",
    "    [' '.join(rising_queries_dict[keyword]['query'].tolist()) for keyword in rising_queries_dict if rising_queries_dict[keyword] is not None]\n",
    ")\n",
    "\n",
    "# Generate word cloud\n",
    "wordcloud = WordCloud(width=800, height=400, background_color='white').generate(all_related_queries)\n",
    "\n",
    "# Display word cloud\n",
    "plt.figure(figsize=(10, 5))\n",
    "plt.imshow(wordcloud, interpolation='bilinear')\n",
    "plt.axis('off')\n",
    "plt.title('Word Cloud of Rising Queries')\n",
    "plt.show()\n"
   ]
  },
  {
   "cell_type": "code",
   "execution_count": null,
   "metadata": {},
   "outputs": [],
   "source": [
    "# Get interest by region\n",
    "interest_by_region_df = pytrends.interest_by_region()\n",
    "print(interest_by_region_df.head())"
   ]
  },
  {
   "cell_type": "code",
   "execution_count": null,
   "metadata": {},
   "outputs": [],
   "source": [
    "# Plot interest by region\n",
    "for keyword in keywords:\n",
    "    df = interest_by_region_df[keyword].nlargest(10)\n",
    "    df.plot(kind='bar', figsize=(10, 6), legend=False, title=f'Top 10 Regions for {keyword}')\n",
    "    plt.xlabel('Region')\n",
    "    plt.ylabel('Interest')\n",
    "    plt.grid(True)\n",
    "    plt.show()"
   ]
  },
  {
   "cell_type": "code",
   "execution_count": null,
   "metadata": {},
   "outputs": [],
   "source": [
    "# Get related queries\n",
    "related_queries_dict = pytrends.related_queries()\n",
    "for keyword in keywords:\n",
    "    print(f\"Related queries for {keyword}:\")\n",
    "    print(related_queries_dict[keyword]['top'].head())"
   ]
  },
  {
   "cell_type": "code",
   "execution_count": null,
   "metadata": {},
   "outputs": [],
   "source": [
    "# Get trending searches\n",
    "trending_searches_df = pytrends.trending_searches()\n",
    "print(\"Trending Searches:\")\n",
    "print(trending_searches_df.head())"
   ]
  },
  {
   "cell_type": "code",
   "execution_count": null,
   "metadata": {},
   "outputs": [],
   "source": [
    "# Get top charts\n",
    "top_charts_df = pytrends.top_charts(2023, hl='en-US', tz=360)\n",
    "print(\"Top Charts for 2023:\")\n",
    "print(top_charts_df.head())"
   ]
  },
  {
   "cell_type": "code",
   "execution_count": null,
   "metadata": {},
   "outputs": [],
   "source": [
    "# Get keyword suggestions\n",
    "for keyword in keywords:\n",
    "    suggestions = pytrends.suggestions(keyword)\n",
    "    print(f\"Suggestions for {keyword}:\")\n",
    "    print(suggestions)"
   ]
  }
 ],
 "metadata": {
  "kernelspec": {
   "display_name": "base",
   "language": "python",
   "name": "python3"
  },
  "language_info": {
   "codemirror_mode": {
    "name": "ipython",
    "version": 3
   },
   "file_extension": ".py",
   "mimetype": "text/x-python",
   "name": "python",
   "nbconvert_exporter": "python",
   "pygments_lexer": "ipython3",
   "version": "3.11.9"
  }
 },
 "nbformat": 4,
 "nbformat_minor": 2
}
